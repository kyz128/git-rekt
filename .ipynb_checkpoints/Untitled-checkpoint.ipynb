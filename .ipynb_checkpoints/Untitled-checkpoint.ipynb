{
 "cells": [
  {
   "cell_type": "code",
   "execution_count": 1,
   "metadata": {},
   "outputs": [],
   "source": [
    "import numpy as np\n",
    "import matplotlib.pyplot as plt\n",
    "import pandas as pd\n",
    "from sklearn.discriminant_analysis import LinearDiscriminantAnalysis as LDA\n",
    "from knn import *"
   ]
  },
  {
   "cell_type": "code",
   "execution_count": 2,
   "metadata": {},
   "outputs": [],
   "source": [
    "from numpy.random import randint"
   ]
  },
  {
   "cell_type": "code",
   "execution_count": 3,
   "metadata": {},
   "outputs": [],
   "source": [
    "data= pd.read_json(\"dataset.json\")\n",
    "final= merge_data(data.to_numpy(), 5)\n",
    "df= pd.DataFrame(final, columns= ['Openness', 'Conscientiousness', 'Extraversion', 'Agreeableness',\n",
    "       'Emotional range', 'Challenge', 'Closeness', 'Curiosity', 'Excitement',\n",
    "       'Harmony', 'Ideal', 'Liberty', 'Love', 'Practicality',\n",
    "       'Self-expression', 'Stability', 'Structure'])"
   ]
  },
  {
   "cell_type": "code",
   "execution_count": 4,
   "metadata": {},
   "outputs": [],
   "source": [
    "df[\"Decision\"]= 1"
   ]
  },
  {
   "cell_type": "code",
   "execution_count": 5,
   "metadata": {},
   "outputs": [],
   "source": [
    "df.iat[-5, -1]= 0\n",
    "df.iat[-4, -1]= 0\n",
    "df.iat[-3, -1]= 0\n",
    "df.iat[-2, -1]= 0\n",
    "df.iat[-1, -1]= 0"
   ]
  },
  {
   "cell_type": "code",
   "execution_count": 6,
   "metadata": {},
   "outputs": [],
   "source": [
    "df.iat[0, -1]= 3"
   ]
  },
  {
   "cell_type": "code",
   "execution_count": null,
   "metadata": {},
   "outputs": [],
   "source": [
    "df.loc[13]= list(randint(10, size=18))"
   ]
  },
  {
   "cell_type": "code",
   "execution_count": 24,
   "metadata": {},
   "outputs": [],
   "source": [
    "x= \"😂\""
   ]
  },
  {
   "cell_type": "code",
   "execution_count": null,
   "metadata": {},
   "outputs": [],
   "source": [
    "y= df[\"Decision\"]\n",
    "X= df.loc[:, :\"Decision\"]"
   ]
  },
  {
   "cell_type": "code",
   "execution_count": null,
   "metadata": {},
   "outputs": [],
   "source": [
    "lda = LDA() \n",
    "lda_transformed = pd.DataFrame(lda.fit_transform(X, y))"
   ]
  },
  {
   "cell_type": "code",
   "execution_count": null,
   "metadata": {},
   "outputs": [],
   "source": [
    "lda_transformed"
   ]
  },
  {
   "cell_type": "code",
   "execution_count": null,
   "metadata": {},
   "outputs": [],
   "source": [
    "lda_transformed[:8][0]"
   ]
  },
  {
   "cell_type": "code",
   "execution_count": 6,
   "metadata": {},
   "outputs": [
    {
     "ename": "NameError",
     "evalue": "name 'lda_transformed' is not defined",
     "output_type": "error",
     "traceback": [
      "\u001b[0;31m---------------------------------------------------------------------------\u001b[0m",
      "\u001b[0;31mNameError\u001b[0m                                 Traceback (most recent call last)",
      "\u001b[0;32m<ipython-input-6-680c8920debb>\u001b[0m in \u001b[0;36m<module>\u001b[0;34m\u001b[0m\n\u001b[0;32m----> 1\u001b[0;31m \u001b[0mplt\u001b[0m\u001b[0;34m.\u001b[0m\u001b[0mscatter\u001b[0m\u001b[0;34m(\u001b[0m\u001b[0mlda_transformed\u001b[0m\u001b[0;34m[\u001b[0m\u001b[0;34m:\u001b[0m\u001b[0;36m8\u001b[0m\u001b[0;34m]\u001b[0m\u001b[0;34m[\u001b[0m\u001b[0;36m0\u001b[0m\u001b[0;34m]\u001b[0m\u001b[0;34m,\u001b[0m \u001b[0mlda_transformed\u001b[0m\u001b[0;34m[\u001b[0m\u001b[0;34m:\u001b[0m\u001b[0;36m8\u001b[0m\u001b[0;34m]\u001b[0m\u001b[0;34m[\u001b[0m\u001b[0;36m1\u001b[0m\u001b[0;34m]\u001b[0m\u001b[0;34m,\u001b[0m \u001b[0mlabel\u001b[0m\u001b[0;34m=\u001b[0m\u001b[0;34m'Accept'\u001b[0m\u001b[0;34m,\u001b[0m \u001b[0mc\u001b[0m\u001b[0;34m=\u001b[0m\u001b[0;34m'green'\u001b[0m\u001b[0;34m)\u001b[0m\u001b[0;34m\u001b[0m\u001b[0;34m\u001b[0m\u001b[0m\n\u001b[0m\u001b[1;32m      2\u001b[0m \u001b[0mplt\u001b[0m\u001b[0;34m.\u001b[0m\u001b[0mscatter\u001b[0m\u001b[0;34m(\u001b[0m\u001b[0mlda_transformed\u001b[0m\u001b[0;34m[\u001b[0m\u001b[0;36m8\u001b[0m\u001b[0;34m:\u001b[0m\u001b[0;34m-\u001b[0m\u001b[0;36m1\u001b[0m\u001b[0;34m]\u001b[0m\u001b[0;34m[\u001b[0m\u001b[0;36m0\u001b[0m\u001b[0;34m]\u001b[0m\u001b[0;34m,\u001b[0m \u001b[0mlda_transformed\u001b[0m\u001b[0;34m[\u001b[0m\u001b[0;36m8\u001b[0m\u001b[0;34m:\u001b[0m\u001b[0;34m-\u001b[0m\u001b[0;36m1\u001b[0m\u001b[0;34m]\u001b[0m\u001b[0;34m[\u001b[0m\u001b[0;36m1\u001b[0m\u001b[0;34m]\u001b[0m\u001b[0;34m,\u001b[0m \u001b[0mlabel\u001b[0m\u001b[0;34m=\u001b[0m\u001b[0;34m'Reject'\u001b[0m\u001b[0;34m,\u001b[0m \u001b[0mc\u001b[0m\u001b[0;34m=\u001b[0m\u001b[0;34m'red'\u001b[0m\u001b[0;34m)\u001b[0m\u001b[0;34m\u001b[0m\u001b[0;34m\u001b[0m\u001b[0m\n\u001b[1;32m      3\u001b[0m \u001b[0;34m\u001b[0m\u001b[0m\n\u001b[1;32m      4\u001b[0m \u001b[0;31m# # Display legend and show plot\u001b[0m\u001b[0;34m\u001b[0m\u001b[0;34m\u001b[0m\u001b[0;34m\u001b[0m\u001b[0m\n\u001b[1;32m      5\u001b[0m \u001b[0mplt\u001b[0m\u001b[0;34m.\u001b[0m\u001b[0mlegend\u001b[0m\u001b[0;34m(\u001b[0m\u001b[0;34m)\u001b[0m\u001b[0;34m\u001b[0m\u001b[0;34m\u001b[0m\u001b[0m\n",
      "\u001b[0;31mNameError\u001b[0m: name 'lda_transformed' is not defined"
     ]
    }
   ],
   "source": [
    "plt.scatter(lda_transformed[:8][0], lda_transformed[:8][1], label='Accept', c='green')\n",
    "plt.scatter(lda_transformed[8:-1][0], lda_transformed[8:-1][1], label='Reject', c='red')\n",
    "\n",
    "# # Display legend and show plot\n",
    "plt.legend()\n",
    "plt.show()"
   ]
  },
  {
   "cell_type": "code",
   "execution_count": null,
   "metadata": {},
   "outputs": [],
   "source": [
    "df.iloc[:-1]"
   ]
  },
  {
   "cell_type": "code",
   "execution_count": null,
   "metadata": {},
   "outputs": [],
   "source": [
    "df"
   ]
  },
  {
   "cell_type": "code",
   "execution_count": 15,
   "metadata": {},
   "outputs": [],
   "source": [
    "df.loc[df.Decision == 0, 'Decision'] = 'Reject'\n",
    "df.loc[df.Decision == 1, 'Decision'] = 'Accept'\n",
    "df.loc[df.Decision == 3, \"Decision\"] = 'Test Data Point'"
   ]
  },
  {
   "cell_type": "code",
   "execution_count": 29,
   "metadata": {},
   "outputs": [],
   "source": [
    "train= df.iloc[1:]\n",
    "test= df.iloc[0]"
   ]
  },
  {
   "cell_type": "code",
   "execution_count": 59,
   "metadata": {},
   "outputs": [
    {
     "data": {
      "text/html": [
       "<div>\n",
       "<style scoped>\n",
       "    .dataframe tbody tr th:only-of-type {\n",
       "        vertical-align: middle;\n",
       "    }\n",
       "\n",
       "    .dataframe tbody tr th {\n",
       "        vertical-align: top;\n",
       "    }\n",
       "\n",
       "    .dataframe thead th {\n",
       "        text-align: right;\n",
       "    }\n",
       "</style>\n",
       "<table border=\"1\" class=\"dataframe\">\n",
       "  <thead>\n",
       "    <tr style=\"text-align: right;\">\n",
       "      <th></th>\n",
       "      <th>Openness</th>\n",
       "      <th>Conscientiousness</th>\n",
       "      <th>Extraversion</th>\n",
       "      <th>Agreeableness</th>\n",
       "      <th>Emotional range</th>\n",
       "      <th>Challenge</th>\n",
       "      <th>Closeness</th>\n",
       "      <th>Curiosity</th>\n",
       "      <th>Excitement</th>\n",
       "      <th>Harmony</th>\n",
       "      <th>Ideal</th>\n",
       "      <th>Liberty</th>\n",
       "      <th>Love</th>\n",
       "      <th>Practicality</th>\n",
       "      <th>Self-expression</th>\n",
       "      <th>Stability</th>\n",
       "      <th>Structure</th>\n",
       "      <th>Decision</th>\n",
       "    </tr>\n",
       "  </thead>\n",
       "  <tbody>\n",
       "    <tr>\n",
       "      <th>0</th>\n",
       "      <td>0.717842</td>\n",
       "      <td>0.646787</td>\n",
       "      <td>0.555314</td>\n",
       "      <td>0.774119</td>\n",
       "      <td>0.491656</td>\n",
       "      <td>0.806774</td>\n",
       "      <td>0.809436</td>\n",
       "      <td>0.817348</td>\n",
       "      <td>0.754478</td>\n",
       "      <td>0.837395</td>\n",
       "      <td>0.732517</td>\n",
       "      <td>0.765000</td>\n",
       "      <td>0.790148</td>\n",
       "      <td>0.744987</td>\n",
       "      <td>0.671689</td>\n",
       "      <td>0.767595</td>\n",
       "      <td>0.731133</td>\n",
       "      <td>Test Data Point</td>\n",
       "    </tr>\n",
       "    <tr>\n",
       "      <th>1</th>\n",
       "      <td>0.730523</td>\n",
       "      <td>0.617172</td>\n",
       "      <td>0.582848</td>\n",
       "      <td>0.766912</td>\n",
       "      <td>0.496351</td>\n",
       "      <td>0.766253</td>\n",
       "      <td>0.837751</td>\n",
       "      <td>0.829813</td>\n",
       "      <td>0.760808</td>\n",
       "      <td>0.836566</td>\n",
       "      <td>0.766472</td>\n",
       "      <td>0.793095</td>\n",
       "      <td>0.806984</td>\n",
       "      <td>0.757608</td>\n",
       "      <td>0.682631</td>\n",
       "      <td>0.792531</td>\n",
       "      <td>0.714478</td>\n",
       "      <td>Accept</td>\n",
       "    </tr>\n",
       "    <tr>\n",
       "      <th>2</th>\n",
       "      <td>0.703305</td>\n",
       "      <td>0.713030</td>\n",
       "      <td>0.598539</td>\n",
       "      <td>0.796409</td>\n",
       "      <td>0.543524</td>\n",
       "      <td>0.851207</td>\n",
       "      <td>0.835054</td>\n",
       "      <td>0.826483</td>\n",
       "      <td>0.793675</td>\n",
       "      <td>0.847862</td>\n",
       "      <td>0.759347</td>\n",
       "      <td>0.804834</td>\n",
       "      <td>0.822096</td>\n",
       "      <td>0.749951</td>\n",
       "      <td>0.666621</td>\n",
       "      <td>0.825875</td>\n",
       "      <td>0.765581</td>\n",
       "      <td>Accept</td>\n",
       "    </tr>\n",
       "    <tr>\n",
       "      <th>3</th>\n",
       "      <td>0.739063</td>\n",
       "      <td>0.674791</td>\n",
       "      <td>0.615158</td>\n",
       "      <td>0.780443</td>\n",
       "      <td>0.541556</td>\n",
       "      <td>0.797919</td>\n",
       "      <td>0.808773</td>\n",
       "      <td>0.823342</td>\n",
       "      <td>0.757539</td>\n",
       "      <td>0.826368</td>\n",
       "      <td>0.745947</td>\n",
       "      <td>0.774688</td>\n",
       "      <td>0.800641</td>\n",
       "      <td>0.740426</td>\n",
       "      <td>0.672431</td>\n",
       "      <td>0.790901</td>\n",
       "      <td>0.724537</td>\n",
       "      <td>Accept</td>\n",
       "    </tr>\n",
       "    <tr>\n",
       "      <th>4</th>\n",
       "      <td>0.736322</td>\n",
       "      <td>0.700268</td>\n",
       "      <td>0.601091</td>\n",
       "      <td>0.796293</td>\n",
       "      <td>0.555495</td>\n",
       "      <td>0.788867</td>\n",
       "      <td>0.803961</td>\n",
       "      <td>0.806388</td>\n",
       "      <td>0.714273</td>\n",
       "      <td>0.813445</td>\n",
       "      <td>0.724052</td>\n",
       "      <td>0.760539</td>\n",
       "      <td>0.769307</td>\n",
       "      <td>0.738259</td>\n",
       "      <td>0.663549</td>\n",
       "      <td>0.788208</td>\n",
       "      <td>0.732635</td>\n",
       "      <td>Accept</td>\n",
       "    </tr>\n",
       "    <tr>\n",
       "      <th>5</th>\n",
       "      <td>0.783294</td>\n",
       "      <td>0.595994</td>\n",
       "      <td>0.548074</td>\n",
       "      <td>0.710745</td>\n",
       "      <td>0.577885</td>\n",
       "      <td>0.709513</td>\n",
       "      <td>0.734482</td>\n",
       "      <td>0.768454</td>\n",
       "      <td>0.645048</td>\n",
       "      <td>0.750210</td>\n",
       "      <td>0.640333</td>\n",
       "      <td>0.684925</td>\n",
       "      <td>0.696053</td>\n",
       "      <td>0.758284</td>\n",
       "      <td>0.652299</td>\n",
       "      <td>0.763459</td>\n",
       "      <td>0.703527</td>\n",
       "      <td>Accept</td>\n",
       "    </tr>\n",
       "    <tr>\n",
       "      <th>6</th>\n",
       "      <td>0.755486</td>\n",
       "      <td>0.669768</td>\n",
       "      <td>0.577023</td>\n",
       "      <td>0.771520</td>\n",
       "      <td>0.477436</td>\n",
       "      <td>0.785342</td>\n",
       "      <td>0.822899</td>\n",
       "      <td>0.843803</td>\n",
       "      <td>0.709140</td>\n",
       "      <td>0.845203</td>\n",
       "      <td>0.753146</td>\n",
       "      <td>0.776185</td>\n",
       "      <td>0.789381</td>\n",
       "      <td>0.736381</td>\n",
       "      <td>0.703095</td>\n",
       "      <td>0.757780</td>\n",
       "      <td>0.658125</td>\n",
       "      <td>Accept</td>\n",
       "    </tr>\n",
       "    <tr>\n",
       "      <th>7</th>\n",
       "      <td>0.735846</td>\n",
       "      <td>0.703384</td>\n",
       "      <td>0.618361</td>\n",
       "      <td>0.806694</td>\n",
       "      <td>0.567502</td>\n",
       "      <td>0.780209</td>\n",
       "      <td>0.816309</td>\n",
       "      <td>0.812679</td>\n",
       "      <td>0.705743</td>\n",
       "      <td>0.831861</td>\n",
       "      <td>0.737249</td>\n",
       "      <td>0.770934</td>\n",
       "      <td>0.797108</td>\n",
       "      <td>0.743056</td>\n",
       "      <td>0.665954</td>\n",
       "      <td>0.788040</td>\n",
       "      <td>0.725975</td>\n",
       "      <td>Accept</td>\n",
       "    </tr>\n",
       "    <tr>\n",
       "      <th>8</th>\n",
       "      <td>0.053852</td>\n",
       "      <td>0.336631</td>\n",
       "      <td>0.521836</td>\n",
       "      <td>0.447395</td>\n",
       "      <td>0.009160</td>\n",
       "      <td>0.329422</td>\n",
       "      <td>0.404731</td>\n",
       "      <td>0.073929</td>\n",
       "      <td>0.041301</td>\n",
       "      <td>0.257630</td>\n",
       "      <td>0.654561</td>\n",
       "      <td>0.301690</td>\n",
       "      <td>0.401776</td>\n",
       "      <td>0.062684</td>\n",
       "      <td>0.609731</td>\n",
       "      <td>0.605767</td>\n",
       "      <td>0.430149</td>\n",
       "      <td>Reject</td>\n",
       "    </tr>\n",
       "    <tr>\n",
       "      <th>9</th>\n",
       "      <td>0.227302</td>\n",
       "      <td>0.097880</td>\n",
       "      <td>0.455888</td>\n",
       "      <td>0.308345</td>\n",
       "      <td>0.682602</td>\n",
       "      <td>0.336690</td>\n",
       "      <td>0.265197</td>\n",
       "      <td>0.242156</td>\n",
       "      <td>0.508039</td>\n",
       "      <td>0.053300</td>\n",
       "      <td>0.314614</td>\n",
       "      <td>0.110615</td>\n",
       "      <td>0.542180</td>\n",
       "      <td>0.108355</td>\n",
       "      <td>0.314518</td>\n",
       "      <td>0.172885</td>\n",
       "      <td>0.153113</td>\n",
       "      <td>Reject</td>\n",
       "    </tr>\n",
       "    <tr>\n",
       "      <th>10</th>\n",
       "      <td>0.244227</td>\n",
       "      <td>0.368573</td>\n",
       "      <td>0.076211</td>\n",
       "      <td>0.556165</td>\n",
       "      <td>0.303047</td>\n",
       "      <td>0.457999</td>\n",
       "      <td>0.008259</td>\n",
       "      <td>0.448695</td>\n",
       "      <td>0.001142</td>\n",
       "      <td>0.105453</td>\n",
       "      <td>0.175975</td>\n",
       "      <td>0.384522</td>\n",
       "      <td>0.034474</td>\n",
       "      <td>0.171892</td>\n",
       "      <td>0.406259</td>\n",
       "      <td>0.135826</td>\n",
       "      <td>0.343824</td>\n",
       "      <td>Reject</td>\n",
       "    </tr>\n",
       "    <tr>\n",
       "      <th>11</th>\n",
       "      <td>0.652051</td>\n",
       "      <td>0.616417</td>\n",
       "      <td>0.007863</td>\n",
       "      <td>0.509830</td>\n",
       "      <td>0.468281</td>\n",
       "      <td>0.338833</td>\n",
       "      <td>0.086401</td>\n",
       "      <td>0.342336</td>\n",
       "      <td>0.311726</td>\n",
       "      <td>0.220677</td>\n",
       "      <td>0.200521</td>\n",
       "      <td>0.638476</td>\n",
       "      <td>0.305619</td>\n",
       "      <td>0.470955</td>\n",
       "      <td>0.023523</td>\n",
       "      <td>0.008550</td>\n",
       "      <td>0.211967</td>\n",
       "      <td>Reject</td>\n",
       "    </tr>\n",
       "    <tr>\n",
       "      <th>12</th>\n",
       "      <td>0.237909</td>\n",
       "      <td>0.031027</td>\n",
       "      <td>0.666214</td>\n",
       "      <td>0.740432</td>\n",
       "      <td>0.729410</td>\n",
       "      <td>0.249370</td>\n",
       "      <td>0.075398</td>\n",
       "      <td>0.294496</td>\n",
       "      <td>0.189425</td>\n",
       "      <td>0.096138</td>\n",
       "      <td>0.402508</td>\n",
       "      <td>0.138872</td>\n",
       "      <td>0.136296</td>\n",
       "      <td>0.155157</td>\n",
       "      <td>0.502511</td>\n",
       "      <td>0.041941</td>\n",
       "      <td>0.193607</td>\n",
       "      <td>Reject</td>\n",
       "    </tr>\n",
       "  </tbody>\n",
       "</table>\n",
       "</div>"
      ],
      "text/plain": [
       "    Openness  Conscientiousness  Extraversion  Agreeableness  Emotional range  \\\n",
       "0   0.717842           0.646787      0.555314       0.774119         0.491656   \n",
       "1   0.730523           0.617172      0.582848       0.766912         0.496351   \n",
       "2   0.703305           0.713030      0.598539       0.796409         0.543524   \n",
       "3   0.739063           0.674791      0.615158       0.780443         0.541556   \n",
       "4   0.736322           0.700268      0.601091       0.796293         0.555495   \n",
       "5   0.783294           0.595994      0.548074       0.710745         0.577885   \n",
       "6   0.755486           0.669768      0.577023       0.771520         0.477436   \n",
       "7   0.735846           0.703384      0.618361       0.806694         0.567502   \n",
       "8   0.053852           0.336631      0.521836       0.447395         0.009160   \n",
       "9   0.227302           0.097880      0.455888       0.308345         0.682602   \n",
       "10  0.244227           0.368573      0.076211       0.556165         0.303047   \n",
       "11  0.652051           0.616417      0.007863       0.509830         0.468281   \n",
       "12  0.237909           0.031027      0.666214       0.740432         0.729410   \n",
       "\n",
       "    Challenge  Closeness  Curiosity  Excitement   Harmony     Ideal   Liberty  \\\n",
       "0    0.806774   0.809436   0.817348    0.754478  0.837395  0.732517  0.765000   \n",
       "1    0.766253   0.837751   0.829813    0.760808  0.836566  0.766472  0.793095   \n",
       "2    0.851207   0.835054   0.826483    0.793675  0.847862  0.759347  0.804834   \n",
       "3    0.797919   0.808773   0.823342    0.757539  0.826368  0.745947  0.774688   \n",
       "4    0.788867   0.803961   0.806388    0.714273  0.813445  0.724052  0.760539   \n",
       "5    0.709513   0.734482   0.768454    0.645048  0.750210  0.640333  0.684925   \n",
       "6    0.785342   0.822899   0.843803    0.709140  0.845203  0.753146  0.776185   \n",
       "7    0.780209   0.816309   0.812679    0.705743  0.831861  0.737249  0.770934   \n",
       "8    0.329422   0.404731   0.073929    0.041301  0.257630  0.654561  0.301690   \n",
       "9    0.336690   0.265197   0.242156    0.508039  0.053300  0.314614  0.110615   \n",
       "10   0.457999   0.008259   0.448695    0.001142  0.105453  0.175975  0.384522   \n",
       "11   0.338833   0.086401   0.342336    0.311726  0.220677  0.200521  0.638476   \n",
       "12   0.249370   0.075398   0.294496    0.189425  0.096138  0.402508  0.138872   \n",
       "\n",
       "        Love  Practicality  Self-expression  Stability  Structure  \\\n",
       "0   0.790148      0.744987         0.671689   0.767595   0.731133   \n",
       "1   0.806984      0.757608         0.682631   0.792531   0.714478   \n",
       "2   0.822096      0.749951         0.666621   0.825875   0.765581   \n",
       "3   0.800641      0.740426         0.672431   0.790901   0.724537   \n",
       "4   0.769307      0.738259         0.663549   0.788208   0.732635   \n",
       "5   0.696053      0.758284         0.652299   0.763459   0.703527   \n",
       "6   0.789381      0.736381         0.703095   0.757780   0.658125   \n",
       "7   0.797108      0.743056         0.665954   0.788040   0.725975   \n",
       "8   0.401776      0.062684         0.609731   0.605767   0.430149   \n",
       "9   0.542180      0.108355         0.314518   0.172885   0.153113   \n",
       "10  0.034474      0.171892         0.406259   0.135826   0.343824   \n",
       "11  0.305619      0.470955         0.023523   0.008550   0.211967   \n",
       "12  0.136296      0.155157         0.502511   0.041941   0.193607   \n",
       "\n",
       "           Decision  \n",
       "0   Test Data Point  \n",
       "1            Accept  \n",
       "2            Accept  \n",
       "3            Accept  \n",
       "4            Accept  \n",
       "5            Accept  \n",
       "6            Accept  \n",
       "7            Accept  \n",
       "8            Reject  \n",
       "9            Reject  \n",
       "10           Reject  \n",
       "11           Reject  \n",
       "12           Reject  "
      ]
     },
     "execution_count": 59,
     "metadata": {},
     "output_type": "execute_result"
    }
   ],
   "source": [
    "df"
   ]
  },
  {
   "cell_type": "code",
   "execution_count": 61,
   "metadata": {},
   "outputs": [],
   "source": [
    "b, c = df.iloc[0], df.iloc[7]\n",
    "temp = df.iloc[0].copy()\n",
    "df.iloc[0] = c\n",
    "df.iloc[7] = temp"
   ]
  },
  {
   "cell_type": "code",
   "execution_count": 67,
   "metadata": {},
   "outputs": [
    {
     "name": "stdout",
     "output_type": "stream",
     "text": [
      "[6.0, 4.0]\n"
     ]
    }
   ],
   "source": [
    "print(plt.rcParams.get('figure.figsize'))"
   ]
  },
  {
   "cell_type": "code",
   "execution_count": 68,
   "metadata": {
    "scrolled": true
   },
   "outputs": [
    {
     "data": {
      "image/png": "[encoded data removed]",
      "text/plain": [
       "<Figure size 432x288 with 1 Axes>"
      ]
     },
     "metadata": {
      "needs_background": "light"
     },
     "output_type": "display_data"
    }
   ],
   "source": [
    "lines= pd.plotting.parallel_coordinates(\n",
    "        df, 'Decision',\n",
    "        color=('red', 'yellow', \"green\"), lw= 3, sort_labels= True)\n",
    "plt.xticks(rotation=90)\n",
    "plt.set_facecolor= 'black'\n",
    "title_obj = plt.title('Parallel Coordinate Graph of Team Trait Breakdown')\n",
    "plt.setp(title_obj, color='black')\n",
    "plt.rcParams['text.color'] = 'white'\n",
    "leg= plt.legend(bbox_to_anchor=(1, 1.05))\n",
    "mpl.rcParams['lines.linewidth'] = 2\n",
    "plt.ylabel(\"Raw Score\")\n",
    "plt.xlabel(\"Personality Traits and Needs\")\n",
    "plt.savefig(\"final.png\", bbox_inches = \"tight\")\n",
    "plt.show()"
   ]
  },
  {
   "cell_type": "code",
   "execution_count": 64,
   "metadata": {},
   "outputs": [
    {
     "data": {
      "text/plain": [
       "<Figure size 432x288 with 0 Axes>"
      ]
     },
     "metadata": {},
     "output_type": "display_data"
    }
   ],
   "source": [
    "plt.savefig(\"final.png\")"
   ]
  },
  {
   "cell_type": "code",
   "execution_count": 39,
   "metadata": {},
   "outputs": [
    {
     "data": {
      "text/plain": [
       "'Accept'"
      ]
     },
     "execution_count": 39,
     "metadata": {},
     "output_type": "execute_result"
    }
   ],
   "source": [
    "test.loc[\"Decision\"]"
   ]
  },
  {
   "cell_type": "code",
   "execution_count": null,
   "metadata": {},
   "outputs": [],
   "source": []
  }
 ],
 "metadata": {
  "kernelspec": {
   "display_name": "Python 3",
   "language": "python",
   "name": "python3"
  },
  "language_info": {
   "codemirror_mode": {
    "name": "ipython",
    "version": 3
   },
   "file_extension": ".py",
   "mimetype": "text/x-python",
   "name": "python",
   "nbconvert_exporter": "python",
   "pygments_lexer": "ipython3",
   "version": "3.7.3"
  }
 },
 "nbformat": 4,
 "nbformat_minor": 2
}
